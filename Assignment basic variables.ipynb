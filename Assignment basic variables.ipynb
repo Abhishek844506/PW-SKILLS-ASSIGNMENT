{
 "cells": [
  {
   "cell_type": "code",
   "execution_count": null,
   "id": "3eb64721-eeeb-4938-bbf2-9bc1cd313d74",
   "metadata": {},
   "outputs": [],
   "source": [
    "Q1. Write all the conventions being followed while declaring a variable.\n",
    "\n",
    "ans = While declaring a variable, there are certain conventions thar \n",
    "        typically followed to ensure code readability and maintainabilty.\n",
    "        here are some examples:\n",
    "            1. Use descripitive and meaningful names that helps other developers understand the code and its intentions.\n",
    "            2. Follow camelCase or snake_case: ex - 'myVariable' or 'my_variable'.\n",
    "            3. Avoid reserved keywords: Don't use reserved keywords of the programming language as variables names.\n",
    "                ex- 'if' , 'while' and 'class'.\n",
    "            4. Use lowercase for variables.\n",
    "            5. Avoid single-letter variable names.\n",
    "            6. Declear variables close to their usage.\n",
    "            \n",
    "Q2. What will happen if we declare a restricted keyword as a variable?\n",
    "ans = If we declare a variable with a ristricted keyword in a programming language, it will typically result in a compilation or syntax error.\n",
    "      reserved keywords are predefined and have special meanings in the language. they are used for specific purpose, such as defining control \n",
    "      structure, data types, or language constructs.\n",
    "    \n",
    "Q3. Can we actually declare a string as a variable name?\n",
    "ans = No, In many programming languages, it is not allowed to declare a string as a variable name directly. Variables names are typically\n",
    "expected to be identifiers, which means they need to follow certain rules and restrictions defined by the language.\n",
    "\n",
    "Q4. Is it possible for us to declare “_” as a variable? If so, then write an example of it.\n",
    "ans = Yes, it is generally possible to declare a variable with the name \"_\"(underscore) in many programming languages. The underscore character \n",
    "      is often allowed as a valid identifier and can be used as a variable name.\n",
    "      ex -  input: _ = 32\n",
    "                  print(_)\n",
    "            output:\n",
    "                32\n",
    "Q5. Using an example, explain how the variables in python are dynamic in nature.\n",
    "ans = In python, variables are dynamic in nature, which means they can be reassigned to different types od value during the excution of a programe. \n",
    "      this flexibility allows for dynamic typing,where the type of a variable is determined by the value assigned to it at runtime.\n",
    "      ex - Input:                     \n",
    "                x = 10                \n",
    "                print(x)\n",
    "           #Output\n",
    "                10\n",
    "                x = \"Hello\"\n",
    "                print(x)\n",
    "            #output\n",
    "                Hello\n",
    "                x = [1,2,3]\n",
    "                print(x)\n",
    "            #output\n",
    "                [1,2,3]"
   ]
  }
 ],
 "metadata": {
  "kernelspec": {
   "display_name": "Python 3 (ipykernel)",
   "language": "python",
   "name": "python3"
  },
  "language_info": {
   "codemirror_mode": {
    "name": "ipython",
    "version": 3
   },
   "file_extension": ".py",
   "mimetype": "text/x-python",
   "name": "python",
   "nbconvert_exporter": "python",
   "pygments_lexer": "ipython3",
   "version": "3.10.8"
  }
 },
 "nbformat": 4,
 "nbformat_minor": 5
}
